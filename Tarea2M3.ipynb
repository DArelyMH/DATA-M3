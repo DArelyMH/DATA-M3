{
 "cells": [
  {
   "cell_type": "markdown",
   "metadata": {},
   "source": [
    "<h1 style=\"color:#07B30C\" align=\"center\"> Tarea 2, Módulo 3</h1>\n",
    "<h2 style=\"color:#07B30C\"align=\"center\"> Daniela Arely Morales Hernández </h2>\n",
    "<h3 style=\"color:#07B30C\"align=\"center\"> 142976 </h3>"
   ]
  },
  {
   "cell_type": "markdown",
   "metadata": {},
   "source": [
    "<h2 style=\"color:crimson\">Ejercicios</h2>\n",
    "\n",
    "En los ejercicios 1 a 5 analizaremos la volatilidad CEMEX (`\"CEMEXCPO MF Equity\"`).\n",
    "\n",
    "1. Declara la variable `cemex_close` siendo esta la columna `PX_LAST` dentro del DataFrame `bmv`; transforma el índice de `cemex_close` a fin de que sea un `DateTimeIndex`; posteriormente, declara la variable `cemex_diff` que contenga la diferencia de precios entre un día y el siguiente (**hint**: ocupa el método `shift`)\n",
    "\n",
    "Crea una figure usando matplotlib con 2 columnas: la primera columna deberá ser el histórico de `cemex_diff`; la segunda columna, un histograma de `cemex_diff` con `bins=20`.\n",
    "\n",
    "\n",
    "----\n",
    "\n",
    "\n",
    "\n"
   ]
  },
  {
   "cell_type": "code",
   "execution_count": 118,
   "metadata": {},
   "outputs": [],
   "source": [
    "import pandas as pd\n",
    "import numpy as np\n",
    "import matplotlib.pyplot as plt\n",
    "import seaborn as sns\n",
    "from datetime import datetime\n"
   ]
  },
  {
   "cell_type": "code",
   "execution_count": 106,
   "metadata": {},
   "outputs": [
    {
     "data": {
      "text/html": [
       "<div>\n",
       "<style scoped>\n",
       "    .dataframe tbody tr th:only-of-type {\n",
       "        vertical-align: middle;\n",
       "    }\n",
       "\n",
       "    .dataframe tbody tr th {\n",
       "        vertical-align: top;\n",
       "    }\n",
       "\n",
       "    .dataframe thead th {\n",
       "        text-align: right;\n",
       "    }\n",
       "</style>\n",
       "<table border=\"1\" class=\"dataframe\">\n",
       "  <thead>\n",
       "    <tr style=\"text-align: right;\">\n",
       "      <th>field</th>\n",
       "      <th>PX_HIGH</th>\n",
       "      <th>PX_LAST</th>\n",
       "      <th>Diferencia</th>\n",
       "      <th>PX_LOW</th>\n",
       "      <th>PX_MID</th>\n",
       "      <th>PX_OPEN</th>\n",
       "      <th>PX_VOLUME</th>\n",
       "    </tr>\n",
       "    <tr>\n",
       "      <th>date</th>\n",
       "      <th></th>\n",
       "      <th></th>\n",
       "      <th></th>\n",
       "      <th></th>\n",
       "      <th></th>\n",
       "      <th></th>\n",
       "      <th></th>\n",
       "    </tr>\n",
       "  </thead>\n",
       "  <tbody>\n",
       "    <tr>\n",
       "      <th>2000-01-03</th>\n",
       "      <td>8.46</td>\n",
       "      <td>8.14</td>\n",
       "      <td>0.52</td>\n",
       "      <td>8.09</td>\n",
       "      <td>8.14</td>\n",
       "      <td>8.35</td>\n",
       "      <td>8755188.0</td>\n",
       "    </tr>\n",
       "    <tr>\n",
       "      <th>2000-01-04</th>\n",
       "      <td>7.89</td>\n",
       "      <td>7.62</td>\n",
       "      <td>0.01</td>\n",
       "      <td>7.61</td>\n",
       "      <td>7.61</td>\n",
       "      <td>7.86</td>\n",
       "      <td>26017417.0</td>\n",
       "    </tr>\n",
       "    <tr>\n",
       "      <th>2000-01-05</th>\n",
       "      <td>7.70</td>\n",
       "      <td>7.61</td>\n",
       "      <td>0.11</td>\n",
       "      <td>7.45</td>\n",
       "      <td>7.65</td>\n",
       "      <td>7.61</td>\n",
       "      <td>39735576.0</td>\n",
       "    </tr>\n",
       "    <tr>\n",
       "      <th>2000-01-06</th>\n",
       "      <td>7.71</td>\n",
       "      <td>7.50</td>\n",
       "      <td>-0.08</td>\n",
       "      <td>7.43</td>\n",
       "      <td>7.50</td>\n",
       "      <td>7.65</td>\n",
       "      <td>14939813.0</td>\n",
       "    </tr>\n",
       "    <tr>\n",
       "      <th>2000-01-07</th>\n",
       "      <td>7.59</td>\n",
       "      <td>7.58</td>\n",
       "      <td>-0.15</td>\n",
       "      <td>7.48</td>\n",
       "      <td>7.58</td>\n",
       "      <td>7.54</td>\n",
       "      <td>46276516.0</td>\n",
       "    </tr>\n",
       "  </tbody>\n",
       "</table>\n",
       "</div>"
      ],
      "text/plain": [
       "field       PX_HIGH  PX_LAST  Diferencia  PX_LOW  PX_MID  PX_OPEN   PX_VOLUME\n",
       "date                                                                         \n",
       "2000-01-03     8.46     8.14        0.52    8.09    8.14     8.35   8755188.0\n",
       "2000-01-04     7.89     7.62        0.01    7.61    7.61     7.86  26017417.0\n",
       "2000-01-05     7.70     7.61        0.11    7.45    7.65     7.61  39735576.0\n",
       "2000-01-06     7.71     7.50       -0.08    7.43    7.50     7.65  14939813.0\n",
       "2000-01-07     7.59     7.58       -0.15    7.48    7.58     7.54  46276516.0"
      ]
     },
     "execution_count": 106,
     "metadata": {},
     "output_type": "execute_result"
    },
    {
     "data": {
      "image/png": "[encoded data removed]",
      "text/plain": [
       "<Figure size 432x288 with 1 Axes>"
      ]
     },
     "metadata": {
      "needs_background": "light"
     },
     "output_type": "display_data"
    }
   ],
   "source": [
    "bmv = pd.read_csv(\"C:/Users/danie/Desktop/DATA/Modificado/Modulo3/lec02/ipc0019.csv\")\n",
    "bmv = bmv.pivot_table(values=\"value\",\n",
    "                      index=\"date\",\n",
    "                      columns=[\"ticker\", \"field\"])\n",
    "bmv.head()\n",
    "\n",
    "cemex_ticker = \"CEMEXCPO MF Equity\"\n",
    "cemex = bmv[cemex_ticker]\n",
    "\n",
    "cemex.head()\n",
    "##Declara la variable cemex_close siendo esta la columna PX_LAST dentro del DataFrame bmv\n",
    "cemex_close = pd.to_numeric(cemex.PX_LAST)\n",
    "\n",
    "##transforma el índice de cemex_close a fin de que sea un DateTimeIndex\n",
    "date_index = pd.DatetimeIndex(cemex.index)\n",
    "cemex.index= date_index\n",
    "c1= cemex_close.shift(periods=-1)\n",
    "#print(cemex_close)\n",
    "\n",
    "#X = cemex_close[2]- c1[2]\n",
    "    \n",
    "#print(X)\n",
    "cemex_diff = []\n",
    "##crea un array de diferencias ###########\n",
    "\n",
    "for i in range(len(cemex_close)): \n",
    "    X = cemex_close[i]- c1[i]\n",
    "    cemex_diff.append(X)\n",
    "             \n",
    "# inserting new column with values of list made above         \n",
    "cemex.insert(2, \"Diferencia\", cemex_diff) \n",
    " \n",
    "df = pd.DataFrame(cemex_diff)\n",
    "\n",
    "hist = df.hist(bins=20)\n",
    "cemex.head() \n",
    "##falta imprimir el ulitmo plot de las dos columnas\n",
    "#cemex[\"Diferencia\",hist].plot()\n"
   ]
  },
  {
   "cell_type": "markdown",
   "metadata": {},
   "source": [
    "2. Realiza un _downsampling_ de `cemex_diff`: calcula la desviación estándar por trimestre del inicio de la historia hasta el 1 de junio de 2018. Guarda la información dentro la variable `cemex_std` y grafica un histograma con `bins=20`\n",
    "\n",
    "---\n"
   ]
  },
  {
   "cell_type": "code",
   "execution_count": 109,
   "metadata": {},
   "outputs": [
    {
     "data": {
      "image/png": "[encoded data removed]",
      "text/plain": [
       "<Figure size 432x288 with 1 Axes>"
      ]
     },
     "metadata": {
      "needs_background": "light"
     },
     "output_type": "display_data"
    }
   ],
   "source": [
    "\n",
    "sample = cemex.loc[ : \"2018-06-01\", \"Diferencia\"]\n",
    "# Agrupando valores por (final de) mes\n",
    "cemex_std = pd.DataFrame(sample.resample(\"Q\").mean())\n",
    "\n",
    "hist = cemex_std.hist(bins=20)\n"
   ]
  },
  {
   "cell_type": "markdown",
   "metadata": {},
   "source": [
    "3. Realiza nuevamente el ejercicio 3 calculando en este caso la desviación estándar por semana. ¿Qué diferencias observas entre las dos distribuciones de volatilidad?\n",
    "\n",
    "---\n"
   ]
  },
  {
   "cell_type": "code",
   "execution_count": 110,
   "metadata": {},
   "outputs": [
    {
     "data": {
      "image/png": "[encoded data removed]",
      "text/plain": [
       "<Figure size 432x288 with 1 Axes>"
      ]
     },
     "metadata": {
      "needs_background": "light"
     },
     "output_type": "display_data"
    }
   ],
   "source": [
    "cemex_std = pd.DataFrame(sample.resample(\"W\").mean())\n",
    "\n",
    "hist = cemex_std.hist(bins=20)\n"
   ]
  },
  {
   "cell_type": "markdown",
   "metadata": {},
   "source": [
    "4. En este ejercicio analizaremos la volatilidad por mes considerando `cemex_diff`. Corre el siguiente código y explica que hace:\n",
    "\n",
    "```python\n",
    "months = cemex_diff.index.strftime(\"%B\")\n",
    "cemex_diff.groupby(months).mean().plot(kind=\"bar\")\n",
    "```\n",
    "\n",
    "¿Cómo podrías explicar la gráfica resultante?\n",
    "\n",
    "---\n"
   ]
  },
  {
   "cell_type": "code",
   "execution_count": 133,
   "metadata": {},
   "outputs": [
    {
     "data": {
      "text/plain": [
       "'\\nGrafica por mes las desvaciones estandar\\n\\n'"
      ]
     },
     "execution_count": 133,
     "metadata": {},
     "output_type": "execute_result"
    },
    {
     "data": {
      "image/png": "[encoded data removed]",
      "text/plain": [
       "<Figure size 432x288 with 1 Axes>"
      ]
     },
     "metadata": {
      "needs_background": "light"
     },
     "output_type": "display_data"
    }
   ],
   "source": [
    "##No permite correr este codigo\n",
    "##emex_diff no es un index Time\n",
    "months = sample.index.strftime(\"%B\")\n",
    "sample.groupby(months).mean().plot(kind=\"bar\")\n",
    "\n",
    "##Respuesta:\n",
    "'''\n",
    "Grafica por mes las desvaciones estandar\n",
    "\n",
    "'''"
   ]
  },
  {
   "cell_type": "markdown",
   "metadata": {},
   "source": [
    "\n",
    "5. Realiza nuevamente el ejercicio 4 considerando `cemexs_last`. ¿Por qué difieren las gráficas?\n"
   ]
  },
  {
   "cell_type": "code",
   "execution_count": 134,
   "metadata": {},
   "outputs": [
    {
     "data": {
      "text/plain": [
       "<matplotlib.axes._subplots.AxesSubplot at 0x2702e5a4eb8>"
      ]
     },
     "execution_count": 134,
     "metadata": {},
     "output_type": "execute_result"
    },
    {
     "data": {
      "image/png": "[encoded data removed]",
      "text/plain": [
       "<Figure size 432x288 with 1 Axes>"
      ]
     },
     "metadata": {
      "needs_background": "light"
     },
     "output_type": "display_data"
    }
   ],
   "source": [
    "sample = cemex.loc[ : \"2018-06-01\", \"PX_LAST\"]\n",
    "\n",
    "months = sample.index.strftime(\"%B\")\n",
    "sample.groupby(months).mean().plot(kind=\"bar\")\n"
   ]
  }
 ],
 "metadata": {
  "kernelspec": {
   "display_name": "Python 3",
   "language": "python",
   "name": "python3"
  },
  "language_info": {
   "codemirror_mode": {
    "name": "ipython",
    "version": 3
   },
   "file_extension": ".py",
   "mimetype": "text/x-python",
   "name": "python",
   "nbconvert_exporter": "python",
   "pygments_lexer": "ipython3",
   "version": "3.7.3"
  }
 },
 "nbformat": 4,
 "nbformat_minor": 2
}
